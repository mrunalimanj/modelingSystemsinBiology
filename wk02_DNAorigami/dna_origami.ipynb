{
 "cells": [
  {
   "cell_type": "markdown",
   "id": "standard-settlement",
   "metadata": {},
   "source": [
    "Check out some other projects from the community:\n",
    "* MrDNA from the Aksimentiev Lab at UIUC  \n",
    "I think this above one has a Python implementation which might make it more conducive to working in a notebook!\n",
    "> http://www.ks.uiuc.edu/Training/Workshop/Urbana2018c/tutorials/multi-resolution-dna-nanotechnology.pdf\n",
    "* may need to include some starter files that were made in cadnano first, and write up a script to show how it was produced. \n",
    "\n",
    "\n",
    "also:\n",
    "* scadnano from the Doty Lab at UC Davis\n",
    "* several tools from the Bathe Lab at MIT\n"
   ]
  },
  {
   "cell_type": "code",
   "execution_count": null,
   "id": "operating-raise",
   "metadata": {},
   "outputs": [],
   "source": []
  }
 ],
 "metadata": {
  "kernelspec": {
   "display_name": "Python 3",
   "language": "python",
   "name": "python3"
  },
  "language_info": {
   "codemirror_mode": {
    "name": "ipython",
    "version": 3
   },
   "file_extension": ".py",
   "mimetype": "text/x-python",
   "name": "python",
   "nbconvert_exporter": "python",
   "pygments_lexer": "ipython3",
   "version": "3.7.7"
  }
 },
 "nbformat": 4,
 "nbformat_minor": 5
}
