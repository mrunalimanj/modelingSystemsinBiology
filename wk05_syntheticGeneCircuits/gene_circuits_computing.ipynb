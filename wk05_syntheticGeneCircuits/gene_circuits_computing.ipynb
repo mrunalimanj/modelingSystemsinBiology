{
 "cells": [
  {
   "cell_type": "markdown",
   "id": "bibliographic-nickname",
   "metadata": {},
   "source": [
    "### papers of interest:\n",
    "https://www.sciencedirect.com/science/article/pii/S1367593112000646  \n",
    "logic gates: https://www.frontiersin.org/articles/10.3389/fbioe.2019.00040/full\n",
    "\n",
    "this is all about \"biocomputing\". cellular computers. this is a step beyond DNA computing, which is a bit static in nature.\n",
    "\n",
    "When you start thinking about it in terms of computers, the motivations for math seem to make a lot more sense!\n",
    "\n",
    "\n",
    "Resources:\n",
    "\n",
    "http://www.be150.caltech.edu/2020/content/index.html is really cool!!  \n",
    "SynBiopython is a library that exists, here's a good breakdown of current takes: https://medium.com/bioeconomy-xyz/python-meet-synthetic-biology-the-dna-computing-issue-cf46114fa7b1\n",
    "\n",
    "also https://bmcbioinformatics.biomedcentral.com/articles/10.1186/s12859-019-2788-3"
   ]
  },
  {
   "cell_type": "code",
   "execution_count": null,
   "id": "superior-motel",
   "metadata": {},
   "outputs": [],
   "source": []
  }
 ],
 "metadata": {
  "kernelspec": {
   "display_name": "Python 3",
   "language": "python",
   "name": "python3"
  },
  "language_info": {
   "name": ""
  }
 },
 "nbformat": 4,
 "nbformat_minor": 5
}
